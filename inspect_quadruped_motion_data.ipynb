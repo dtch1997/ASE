{
 "cells": [
  {
   "attachments": {},
   "cell_type": "markdown",
   "metadata": {},
   "source": [
    "# Quadruped Motion Data"
   ]
  },
  {
   "cell_type": "code",
   "execution_count": 1,
   "metadata": {},
   "outputs": [],
   "source": [
    "from ase.poselib.quadruped_motion_data import MotionData \n",
    "\n",
    "path_to_motion_data = 'ase/data/motions/quadruped/dog_trot.txt'\n",
    "motion_data = MotionData(path_to_motion_data)"
   ]
  },
  {
   "cell_type": "code",
   "execution_count": 8,
   "metadata": {},
   "outputs": [
    {
     "name": "stdout",
     "output_type": "stream",
     "text": [
      "Number of frames: 33\n",
      "Time (s) per frame: 0.01667\n",
      "Frame len: 19\n",
      "First frame: [ 0.          0.          0.41758     0.48547893  0.51474886  0.52473884\n",
      "  0.47327895 -0.13469     0.19749    -0.98728    -0.29301    -0.20471\n",
      " -1.23984    -0.23355     0.42011    -1.21791    -0.18938     0.26441\n",
      " -0.94834   ]\n"
     ]
    }
   ],
   "source": [
    "print(f\"Number of frames: {motion_data.get_num_frames()}\")\n",
    "print(f\"Time (s) per frame: {motion_data.get_frame_duration()}\")\n",
    "print(f\"Frame len: {len(motion_data.get_frame(0))}\")\n",
    "print(f\"First frame: {motion_data.get_frame(0)}\")"
   ]
  }
 ],
 "metadata": {
  "kernelspec": {
   "display_name": "ase",
   "language": "python",
   "name": "python3"
  },
  "language_info": {
   "codemirror_mode": {
    "name": "ipython",
    "version": 3
   },
   "file_extension": ".py",
   "mimetype": "text/x-python",
   "name": "python",
   "nbconvert_exporter": "python",
   "pygments_lexer": "ipython3",
   "version": "3.7.12"
  },
  "orig_nbformat": 4,
  "vscode": {
   "interpreter": {
    "hash": "77d6a29aa046647bee3fd96f227c9c2cd2a75698155ade6649f822f3fec3e962"
   }
  }
 },
 "nbformat": 4,
 "nbformat_minor": 2
}
